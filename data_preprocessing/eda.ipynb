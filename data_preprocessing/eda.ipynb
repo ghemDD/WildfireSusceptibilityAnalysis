{
 "cells": [
  {
   "cell_type": "markdown",
   "id": "fe443030-602f-44b9-89e4-380baace2f95",
   "metadata": {},
   "source": [
    "EDA of final dataset after data engineering"
   ]
  },
  {
   "cell_type": "code",
   "execution_count": null,
   "id": "f01ac016-8c46-4fb1-a39f-254a7647ba8a",
   "metadata": {},
   "outputs": [],
   "source": [
    "# general usage ML libraries \n",
    "import math\n",
    "import numpy as np \n",
    "import pandas as pd\n",
    "import geopandas as gpd\n",
    "import matplotlib\n",
    "import matplotlib.pyplot as plt\n",
    "from matplotlib.colors import ListedColormap\n",
    "import seaborn as sn\n",
    "\n",
    "pd.set_option('display.max_rows', 25)\n",
    "\n",
    "# vector operations\n",
    "import geopandas as gpd\n",
    "import shapely.geometry\n",
    "import shapely.wkt\n",
    "\n",
    "# raster operations\n",
    "import os\n",
    "from osgeo import gdal\n",
    "import rasterio.mask \n",
    "import rasterstats\n",
    "import rasterio \n",
    "from rasterio.plot import show\n",
    "from rasterio.warp import reproject, Resampling, calculate_default_transform\n",
    "from rasterio.features import rasterize\n",
    "\n",
    "import subprocess\n",
    "\n",
    "# CRS transformations\n",
    "import pyproj\n",
    "\n",
    "# interpretability\n",
    "import shap\n",
    "\n",
    "# text processing\n",
    "import textwrap"
   ]
  },
  {
   "cell_type": "code",
   "execution_count": null,
   "id": "ea66a879-9441-44f5-b2c1-81891f9076a7",
   "metadata": {},
   "outputs": [],
   "source": [
    "DATA_PATH = 'data_final/'\n",
    "\n",
    "# Land cover data\n",
    "LC_YEAR = [1990, 2000, 2006, 2012, 2018]\n",
    "LC_PATHS = [DATA_PATH+'lc/LC_'+str(year)+'_ND_REC.tif' for year in LC_YEAR]\n",
    "LC_MODE_3_PATHS = [DATA_PATH+'neigh/mode/LC_'+str(year)+'_MODE_3.tif' for year in LC_YEAR]\n",
    "LC_MODE_5_PATHS = [DATA_PATH+'neigh/mode/LC_'+str(year)+'_MODE_5.tif' for year in LC_YEAR]\n",
    "LC_AGRI_3_PATHS = [DATA_PATH+'neigh/agri/LC_'+str(year)+'_PER_AGRI_3.tif' for year in LC_YEAR]\n",
    "LC_FOREST_3_PATHS = [DATA_PATH+'neigh/forest/LC_'+str(year)+'_PER_FOREST_3.tif' for year in LC_YEAR]\n",
    "\n",
    "# distance to urban areas\n",
    "DISTANCE_PATHS = [DATA_PATH+'distance/URB_DIST_'+str(year)+'.tif' for year in LC_YEAR]\n",
    "\n",
    "# most recent fires year on top\n",
    "FIREYEAR = 'data_final/fires/FIREYEAR.tif'\n",
    "\n",
    "# fire binary variable per time period\n",
    "FIRE_YEAR = ['2001-2005', '2012-2017', '2018', '2019', '2020', '2021', '2022']\n",
    "YEAR_PATHS = ['FIRE_ANTE_2006.tif', 'FIRE_2012_TO_2018.tif', 'FIRE_2018.tif', 'FIRE_2019.tif', 'FIRE_2020.tif', \n",
    "                  'FIRE_2021.tif', 'FIRE_2022.tif']\n",
    "\n",
    "FIREYEAR_PATHS = ['data_final/fires/'+year_path for year_path in YEAR_PATHS]\n",
    "\n",
    "# topographic data\n",
    "DEM_PATH = 'data_final/topographic/dem.tif'\n",
    "SLOPE_PATH = 'data_final/topographic/SLOPE_ND.tif'\n",
    "ASPECT_PATH = 'data_final/topographic/aspect.tif'\n",
    "HILLSHADE_PATH = 'data_final/topographic/hillshade.tif'\n",
    "\n",
    "# protected areas\n",
    "PROTECTED_PATH = 'data_final/protected/raster_natural_protected.tif'\n",
    "\n",
    "# vegetation seasonal data\n",
    "VEGETATION_YEAR = ['2017', '2018', '2019', '2020', '2021']\n",
    "VEGETATION_SEASON = ['season1', 'season2']\n",
    "VEGETATION_VARS = ['QFLAG', 'MINV', 'MAXV', 'AMPL', 'RSLOPE', 'LSLOPE']\n",
    "VEGETATION_PATHS = ['data_final/season/'+year+'/merged_'+year+'_'+season+'_'+var+'.tif' for year in VEGETATION_YEAR for var in VEGETATION_VARS\n",
    "                   for season in VEGETATION_SEASON]\n",
    "\n",
    "VEG_IND_VARS = ['ndvi', 'vi', 'evi']\n",
    "VEG_IND_YEAR = VEGETATION_YEAR[1:] + ['2022']\n",
    "\n",
    "\n",
    "# population density\n",
    "DENSITY_PATH = 'data_final/population/population_density_mode.tif'\n",
    "\n",
    "# distance to populated areas\n",
    "DENSITY_VALUES = ['2', '3', '4']\n",
    "\n",
    "# emissivity and land surface temperature\n",
    "TEMP_YEAR = ['2018', '2019', '2020', '2021', '2022']\n",
    "EMISSIVITY_PATHS = ['data_final/emissivity/emissivity_'+year+'.tif' for year in TEMP_YEAR]\n",
    "LST_PATHS = ['data_final/emissivity/lst_'+year+'.tif' for year in TEMP_YEAR]"
   ]
  },
  {
   "cell_type": "code",
   "execution_count": null,
   "id": "70cc91fb-9299-4766-a417-54a41d050a90",
   "metadata": {},
   "outputs": [],
   "source": [
    "fireyear_raster = {}\n",
    "fireyear_array = {}\n",
    "fireyear_array_bin = {}\n",
    "\n",
    "[fireyear_raster.update({year : rasterio.open(FIREYEAR_PATHS[i]) }) for (i, year) in enumerate(FIRE_YEAR)]"
   ]
  },
  {
   "cell_type": "code",
   "execution_count": null,
   "id": "4c9a4fb5-17f8-4452-b5f0-608a4abc56bd",
   "metadata": {},
   "outputs": [],
   "source": [
    "import xml.etree.ElementTree as ET\n",
    "\n",
    "# Parse the XML file\n",
    "tree = ET.parse('metadata/land_cover_meta.xml')\n",
    "\n",
    "# Get the root element of the tree\n",
    "root = tree.getroot()\n",
    "\n",
    "# Create an empty dictionary to store the palette entries\n",
    "palette_entries = {}\n",
    "\n",
    "# Iterate over the paletteEntry elements\n",
    "for entry in root.iter('paletteEntry'):\n",
    "\t# Extract the color, value, and label attributes\n",
    "\tcolor = entry.get('color')\n",
    "\tvalue = int(entry.get('value'))\n",
    "\tlabel = entry.get('label')\n",
    "    \n",
    "\t# Add the entry to the dictionary\n",
    "\tpalette_entries[value] = {'color': color, 'label': label.split(' - ')[1]}\n",
    "    \n",
    "palette_entries[0] = {'color': '#ffffff', 'label': 'No Data'}\n",
    "\n",
    "print(palette_entries)"
   ]
  },
  {
   "cell_type": "code",
   "execution_count": null,
   "id": "0799bf80-9f7e-4963-8373-c608dbbc5db5",
   "metadata": {},
   "outputs": [],
   "source": [
    "def wrap_label(label):\n",
    "    return \"\\n\".join(textwrap.wrap(label, width=20))"
   ]
  },
  {
   "cell_type": "code",
   "execution_count": null,
   "id": "d61b3716-85f3-49d6-a308-99ac7df72f57",
   "metadata": {},
   "outputs": [],
   "source": [
    "color_map = {key: (value['color'], wrap_label(value['label'])) for key, value in sorted(palette_entries.items())}\n",
    "print(color_map)"
   ]
  },
  {
   "cell_type": "code",
   "execution_count": null,
   "id": "a259f167-831e-47fc-87cf-9ab549fb7f61",
   "metadata": {},
   "outputs": [],
   "source": [
    "# Open the raster dataset\n",
    "#with rasterio.open(LC_PATHS[-1]) as src:\n",
    "# Read the raster values into a NumPy array\n",
    "#raster = src.read()\n",
    "raster = rasterio.open(LC_PATHS[-1]).read().squeeze()\n",
    "\n",
    "print(np.bincount(raster.reshape((-1))))\n",
    "\n",
    "# Create a figure and axis\n",
    "fig, ax = plt.subplots(figsize=(15, 15))\n",
    "\n",
    "# Create a list of colors for the colormap\n",
    "colors_list = [color for color, label in color_map.values()]\n",
    "\n",
    "# Create a colormap object from the list of colors\n",
    "cmap = ListedColormap(colors_list)\n",
    "\n",
    "# Display the raster using the colormap and value range\n",
    "im = ax.imshow(raster, cmap=cmap)\n",
    "\n",
    "# Create a legend\n",
    "legend_elements = [\n",
    "    matplotlib.patches.Patch(facecolor=color, edgecolor='k', label=label)\n",
    "    for color, label in color_map.values()\n",
    "]\n",
    "ax.legend(handles=legend_elements, loc='lower left', ncol=2)\n",
    "\n",
    "# Save the figure\n",
    "plt.savefig('plots/land_cover.png', bbox_inches='tight')\n",
    "\n",
    "# Show the plot\n",
    "plt.show()"
   ]
  },
  {
   "cell_type": "code",
   "execution_count": null,
   "id": "52474bae-de00-47b6-87ef-1aed21912355",
   "metadata": {},
   "outputs": [],
   "source": [
    "# Historical inventory of Forest Fire Burnt Area\n",
    "historical_burnt_areas_path = '../data/historical_burnt_areas/effis_layer/modis.ba.poly.shp'"
   ]
  },
  {
   "cell_type": "code",
   "execution_count": null,
   "id": "1541f20d-1599-4b0c-b61d-e817c846f161",
   "metadata": {},
   "outputs": [],
   "source": [
    "burnt_areas = gpd.read_file(historical_burnt_areas_path)\n",
    "burnt_areas.head()"
   ]
  },
  {
   "cell_type": "code",
   "execution_count": null,
   "id": "fa6250a8-f7ce-41cc-bcdc-e715079aad17",
   "metadata": {},
   "outputs": [],
   "source": [
    "burnt_areas['FIREDATE'] = pd.to_datetime(burnt_areas['FIREDATE'])"
   ]
  },
  {
   "cell_type": "code",
   "execution_count": null,
   "id": "950e3e45-70c9-4230-9ea6-6eaedf6e12a1",
   "metadata": {},
   "outputs": [],
   "source": [
    "burnt_areas['FIREYEAR'] = burnt_areas['FIREDATE'].apply(lambda x: x.year)\n",
    "burnt_areas.head()"
   ]
  },
  {
   "cell_type": "code",
   "execution_count": null,
   "id": "80e5a6db-f06a-4b3e-a73f-fa69ee8c6125",
   "metadata": {},
   "outputs": [],
   "source": []
  },
  {
   "cell_type": "code",
   "execution_count": null,
   "id": "434bf824-f8c4-41c6-9a31-359fe6250abf",
   "metadata": {},
   "outputs": [],
   "source": [
    "burnt_areas_pyrenees = burnt_areas[(burnt_areas['COUNTRY'] == 'FR') & ((burnt_areas['PROVINCE'] == 'Pyrénées-Atlantiques') | (burnt_areas['PROVINCE'] == 'Hautes-Pyrénées'))].to_crs(epsg='3035')"
   ]
  },
  {
   "cell_type": "code",
   "execution_count": null,
   "id": "0d418fb7-c966-4acd-a31a-71f2cae93fbe",
   "metadata": {},
   "outputs": [],
   "source": [
    "burnt_areas_pyrenees['FIREYEAR'].value_counts()"
   ]
  },
  {
   "cell_type": "code",
   "execution_count": null,
   "id": "48069d66-3abe-46bf-9d1c-eabdbd2e8ee1",
   "metadata": {},
   "outputs": [],
   "source": [
    "bins = burnt_areas_pyrenees['FIREYEAR'].max() - burnt_areas_pyrenees['FIREYEAR'].min() + 1 \n",
    "print(bins)\n",
    "print(len(burnt_areas_pyrenees[burnt_areas_pyrenees.FIREYEAR == 2021]))\n",
    "\n",
    "# Set the style of the plot\n",
    "sn.set_style('darkgrid')\n",
    "\n",
    "# Set the font size of the tick labels\n",
    "sn.set_context('talk', font_scale=0.5)\n",
    "\n",
    "# Create the histogram\n",
    "ax = burnt_areas_pyrenees['FIREYEAR'].hist(bins=bins, rwidth=0.9, color='orange')\n",
    "\n",
    "# Add a title and x-axis label\n",
    "#ax.set_title('Number of Fires per year in our area of interest')\n",
    "ax.set_xlabel('Year', fontsize=18)\n",
    "ax.tick_params(axis='both', which='major', labelsize=12)\n",
    "plt.tight_layout()\n",
    "\n",
    "# Save the figure\n",
    "plt.savefig('plots/fire_years_histogram.png', bbox_inches='tight')\n",
    "\n",
    "# Show the plot\n",
    "plt.show()"
   ]
  },
  {
   "cell_type": "code",
   "execution_count": null,
   "id": "f49e64c8-5376-4dba-b97d-f4732d066c23",
   "metadata": {},
   "outputs": [],
   "source": [
    "# Boundaries french departments\n",
    "french_departments_boundaries_path = '../data/departments_boundaries/departements-20170102-simplified/departements-20170102.shp'"
   ]
  },
  {
   "cell_type": "code",
   "execution_count": null,
   "id": "f9e4cd4f-0da6-46b3-8d13-37a91f7d555d",
   "metadata": {},
   "outputs": [],
   "source": [
    "sn.reset_orig()"
   ]
  },
  {
   "cell_type": "code",
   "execution_count": null,
   "id": "5666d01b-0046-480f-a8ea-69667f74b21b",
   "metadata": {},
   "outputs": [],
   "source": [
    "# Plot the raster data using matplotlib\n",
    "fig = plt.figure(figsize=(15, 10))\n",
    "\n",
    "years = ['before 2022', 'in 2022']\n",
    "year_paths = ['data_final/fires/FIREYEAR_TRAIN.tif', 'data_final/fires/FIRE_2022.tif']\n",
    "\n",
    "# Open the raster file\n",
    "for idx, p in enumerate(year_paths):    \n",
    "    ax = plt.subplot2grid((1, 2), (0, idx), colspan=1)\n",
    "    \n",
    "    src = rasterio.open(p)\n",
    "    # Read the raster data and metadata\n",
    "    raster_data = (src, 1)\n",
    "\n",
    "    # Read the contour shapefile with geopandas\n",
    "    contours = gpd.read_file(french_departments_boundaries_path)\n",
    "    contours = contours[(contours.code_insee == '64') | (contours.code_insee == '65')].to_crs(epsg='3035')\n",
    "\n",
    "    colormap = ListedColormap([\"white\", \"red\"])\n",
    "\n",
    "    show(raster_data, ax=ax, cmap=colormap)\n",
    "\n",
    "    contours.plot(ax=ax, facecolor='none', edgecolor='black')\n",
    "    \n",
    "    ax.set_title(f'Fires reported {years[idx]}')\n",
    "\n",
    "# Save the figure\n",
    "plt.savefig('plots/fires.png', bbox_inches='tight')\n",
    "# Show the plot\n",
    "plt.show()"
   ]
  },
  {
   "cell_type": "code",
   "execution_count": null,
   "id": "c6093fbe-fa1d-4084-a355-d15297a1bdc4",
   "metadata": {},
   "outputs": [],
   "source": [
    "# Set the style of the plot\n",
    "sn.set_style('darkgrid')\n",
    "\n",
    "# Set the font size of the tick labels\n",
    "sn.set_context('talk', font_scale=0.5)\n",
    "\n",
    "pixel_distribution = [0.02346117155329486, 0.004508364275833487, 0.0005876928337913102, 0.03140133376777727, 0.0070092236453937785, 0.019533750863363748, 0.013105371033784043]\n",
    "years = ['2001-2005', '2012-2017', '2018', '2019', '2020', '2021', '2022']\n",
    "\n",
    "plt.bar(x=years, height=pixel_distribution, color='turquoise')\n",
    "\n",
    "# Add a title and x-axis label\n",
    "#plt.title('Pixels with fire reports proportion distribution', fontsize=20)\n",
    "plt.xlabel('Time period', fontsize=15)\n",
    "plt.ylabel('Proportion of pixels with fire reports', fontsize=15)\n",
    "plt.tick_params(axis='both', which='major', labelsize=12)\n",
    "plt.tick_params(axis='x', which='major', labelsize=9)\n",
    "plt.tight_layout()\n",
    "\n",
    "# Save the figure\n",
    "plt.savefig('plots/pixel_distribution.png', bbox_inches='tight')\n",
    "\n",
    "# Show the plot\n",
    "plt.show()"
   ]
  },
  {
   "cell_type": "code",
   "execution_count": null,
   "id": "d0a7e4f8-ae25-4c3c-ab80-1e7441bf5290",
   "metadata": {},
   "outputs": [],
   "source": [
    "import rasterio\n",
    "from rasterio.mask import mask\n",
    "from shapely.geometry import mapping\n",
    "\n",
    "# Open the raster file\n",
    "with rasterio.open(FIREYEAR_PATHS[-1]) as src:\n",
    "\t# Read the data and metadata\n",
    "\tdata = src.read(masked=True)\n",
    "\ttransform = src.transform\n",
    "\n",
    "# Open the shapefile\n",
    "dep_boundaries = gpd.read_file(french_departments_boundaries_path, encoding='utf-8')\n",
    "dep_boundaries.head()\n",
    "\n",
    "# keep departments of interest\n",
    "pyrenees_boundaries = dep_boundaries[(dep_boundaries.code_insee == '64') | (dep_boundaries.code_insee == '65')]\n",
    "pyrenees_boundaries.head()\n"
   ]
  },
  {
   "cell_type": "code",
   "execution_count": null,
   "id": "1a23a314-8768-4ced-97ce-bce51681756f",
   "metadata": {},
   "outputs": [],
   "source": [
    "import numpy as np \n",
    "import pandas as pd\n",
    "import geopandas as gpd\n",
    "import matplotlib.pyplot as plt\n",
    "pd.set_option('display.max_rows', 4)"
   ]
  },
  {
   "cell_type": "code",
   "execution_count": null,
   "id": "e0bc8cbf-463d-438b-a16b-a6996f4a4b0a",
   "metadata": {},
   "outputs": [],
   "source": [
    "dep_boundaries = gpd.read_file(french_departments_boundaries_path, encoding='utf-8')\n",
    "dep_boundaries.head()"
   ]
  },
  {
   "cell_type": "code",
   "execution_count": null,
   "id": "e858f078-768f-4ee3-9c09-60a6272b309b",
   "metadata": {},
   "outputs": [],
   "source": [
    "# Boundaries french departments\n",
    "french_departments_boundaries_path = '../data/departments_boundaries/departements-20170102-simplified/departements-20170102.shp'\n",
    "\n",
    "# Historical inventory of Forest Fire Burnt Area\n",
    "historical_burnt_areas_path = '../data/historical_burnt_areas/effis_layer/modis.ba.poly.shp'\n",
    "\n",
    "# Digital Elevation Model and derived topographic variable\n",
    "eudem_path = '../data/eudem/euden/EUD_CP-DEMS_3500025000-AA.tif'\n",
    "slope_path = '../data/eudem/slope/EUD_CP-SLOP_3500025000-AA.tif'\n",
    "aspect_path = '../data/eudem/aspect/EUD_CP-ASPC_3500025000-AA.tif'\n",
    "hillshare_path = '../data/eudem/hillshade/EUD_CP-HLSD_3500025000-AA.tif'\n",
    "\n",
    "# Land Cover\n",
    "land_cover_1990_path = '../data/corine_cover/land_cover_1990/u2000_clc1990_v2020_20u1_raster100m/DATA/U2000_CLC1990_V2020_20u1.tif'\n",
    "land_cover_1990_path = '../data/corine_cover/land_cover_2018/u2000_clc1990_v2020_20u1_raster100m/DATA/U2000_CLC1990_V2020_20u1.tif'\n",
    "\n",
    "# Protected area map\n",
    "protected_areas_path = '../data/protected_areas/ens/ens.shp'"
   ]
  },
  {
   "cell_type": "markdown",
   "id": "b6666730-e286-4a19-9ee2-9a1fc2dfae73",
   "metadata": {},
   "source": [
    "#### Boundaries of franch departments"
   ]
  },
  {
   "cell_type": "code",
   "execution_count": null,
   "id": "efa386c1-d294-4f04-9a5b-c012d843bfd7",
   "metadata": {},
   "outputs": [],
   "source": [
    "dep_boundaries = gpd.read_file(french_departments_boundaries_path, encoding='utf-8')\n",
    "dep_boundaries.head()"
   ]
  },
  {
   "cell_type": "code",
   "execution_count": null,
   "id": "4455d65f-74a1-4ba2-bf4b-304814d59bf6",
   "metadata": {},
   "outputs": [],
   "source": [
    "# keep departments of interest\n",
    "pyrenees_boundaries = dep_boundaries[(dep_boundaries.code_insee == '64') | (dep_boundaries.code_insee == '65')]\n",
    "pyrenees_boundaries.head()"
   ]
  },
  {
   "cell_type": "code",
   "execution_count": null,
   "id": "6fa7be7f-64d5-4b78-9520-53a5dda441ac",
   "metadata": {},
   "outputs": [],
   "source": [
    "# display area of interst\n",
    "pyrenees_boundaries.plot()\n",
    "\n",
    "plt.title('Pyrenées')\n",
    "plt.show()"
   ]
  },
  {
   "cell_type": "code",
   "execution_count": null,
   "id": "453d9f05-2a75-4f17-a902-46d5a3269b41",
   "metadata": {},
   "outputs": [],
   "source": [
    "burnt_areas = gpd.read_file(historical_burnt_areas_path)\n",
    "burnt_areas.head()"
   ]
  },
  {
   "cell_type": "code",
   "execution_count": null,
   "id": "a5202e37-5da2-45b9-b9d2-54fba263f123",
   "metadata": {},
   "outputs": [],
   "source": [
    "burnt_areas_pyrenees = burnt_areas[(burnt_areas['COUNTRY'] == 'FR') & ((burnt_areas['PROVINCE'] == 'Pyrénées-Atlantiques') |(burnt_areas['PROVINCE'] ="
   ]
  },
  {
   "cell_type": "code",
   "execution_count": null,
   "id": "db9807bd-dc45-4795-bf05-803da12cdae9",
   "metadata": {},
   "outputs": [],
   "source": [
    "burnt_areas_pyrenees['COMMUNE'].value_counts()[:10].plot(kind='bar')\n",
    "\n",
    "plt.title('Top 10 communes with the highest number of fires')\n",
    "\n",
    "plt.show()"
   ]
  },
  {
   "cell_type": "code",
   "execution_count": null,
   "id": "ab62831f-2a0a-4154-b320-bac3d3238515",
   "metadata": {},
   "outputs": [],
   "source": []
  }
 ],
 "metadata": {
  "kernelspec": {
   "display_name": "Python 3 (ipykernel)",
   "language": "python",
   "name": "python3"
  },
  "language_info": {
   "codemirror_mode": {
    "name": "ipython",
    "version": 3
   },
   "file_extension": ".py",
   "mimetype": "text/x-python",
   "name": "python",
   "nbconvert_exporter": "python",
   "pygments_lexer": "ipython3",
   "version": "3.8.15"
  }
 },
 "nbformat": 4,
 "nbformat_minor": 5
}
